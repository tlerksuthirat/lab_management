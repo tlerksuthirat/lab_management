{
  "nbformat": 4,
  "nbformat_minor": 0,
  "metadata": {
    "colab": {
      "provenance": [],
      "authorship_tag": "ABX9TyOnbi26xMWBtOXdswQQyr7B",
      "include_colab_link": true
    },
    "kernelspec": {
      "name": "python3",
      "display_name": "Python 3"
    },
    "language_info": {
      "name": "python"
    }
  },
  "cells": [
    {
      "cell_type": "markdown",
      "metadata": {
        "id": "view-in-github",
        "colab_type": "text"
      },
      "source": [
        "<a href=\"https://colab.research.google.com/github/tlerksuthirat/lab_management/blob/main/CHEW_project.ipynb\" target=\"_parent\"><img src=\"https://colab.research.google.com/assets/colab-badge.svg\" alt=\"Open In Colab\"/></a>"
      ]
    },
    {
      "cell_type": "code",
      "execution_count": null,
      "metadata": {
        "id": "9QBb4wxMlPuI"
      },
      "outputs": [],
      "source": [
        "from google.colab import drive\n",
        "from google.colab import auth  # Import 'auth' for authentication\n",
        "from googleapiclient.discovery import build\n",
        "from googleapiclient.http import MediaIoBaseDownload\n",
        "import io\n",
        "import pandas as pd"
      ]
    },
    {
      "cell_type": "code",
      "source": [
        "from google.colab import drive\n",
        "drive.mount('/content/drive')"
      ],
      "metadata": {
        "id": "Snzo1O4hnyxQ"
      },
      "execution_count": null,
      "outputs": []
    },
    {
      "cell_type": "code",
      "source": [
        "# Specify your Google Sheet ID\n",
        "file_id = 'your_file_ID'"
      ],
      "metadata": {
        "id": "QffVVxU1os4d"
      },
      "execution_count": null,
      "outputs": []
    },
    {
      "cell_type": "code",
      "source": [
        "# Authenticate and build the Google Drive API service\n",
        "auth.authenticate_user()\n",
        "\n",
        "# Build the Google Drive API service\n",
        "drive_service = build('drive', 'v3')"
      ],
      "metadata": {
        "id": "E6RLVJG8oLta"
      },
      "execution_count": null,
      "outputs": []
    },
    {
      "cell_type": "code",
      "source": [
        "# Request to export the Google Sheet as a CSV\n",
        "request = drive_service.files().export_media(fileId=file_id,mimeType='text/csv')"
      ],
      "metadata": {
        "id": "pRpEhTAWrZp-"
      },
      "execution_count": null,
      "outputs": []
    },
    {
      "cell_type": "code",
      "source": [
        "# Handle file download\n",
        "fh = io.BytesIO()\n",
        "downloader = MediaIoBaseDownload(fh, request)\n",
        "done = False\n",
        "while done is False:\n",
        "    status, done = downloader.next_chunk()\n",
        "\n",
        "# Read data into a Dataframe\n",
        "fh.seek(0)\n",
        "df = pd.read_csv(fh)"
      ],
      "metadata": {
        "id": "qiUSVV3nrt5n"
      },
      "execution_count": null,
      "outputs": []
    },
    {
      "cell_type": "code",
      "source": [
        "df.head(1)"
      ],
      "metadata": {
        "id": "v-lymOZDtjty"
      },
      "execution_count": null,
      "outputs": []
    },
    {
      "cell_type": "code",
      "source": [
        "df.columns"
      ],
      "metadata": {
        "id": "LCmthj5suICq"
      },
      "execution_count": null,
      "outputs": []
    },
    {
      "cell_type": "code",
      "source": [
        "import datetime\n",
        "\n",
        "# Convert the 'date' column to datetime format\n",
        "df['Timestamp'] = pd.to_datetime(df['Timestamp'])\n",
        "\n",
        "# Select dates before 4/1/2024\n",
        "filtered_df = df[df['Timestamp'] < pd.to_datetime('4/1/2024')]"
      ],
      "metadata": {
        "id": "1jIpNErARA7P"
      },
      "execution_count": null,
      "outputs": []
    },
    {
      "cell_type": "code",
      "source": [
        "# Get the unique values in the \"รายชื่อผู้เข้าร่วมโครงการ งานห้องปฏิบัติการวิจัย\" column\n",
        "unique_values = df[\"รายชื่อผู้เข้าร่วมโครงการ งานห้องปฏิบัติการวิจัย\"].unique()"
      ],
      "metadata": {
        "id": "9F2qCzqJudQu"
      },
      "execution_count": null,
      "outputs": []
    },
    {
      "cell_type": "code",
      "source": [
        "unique_email = df[\"Email Address\"].unique()\n",
        "unique_email"
      ],
      "metadata": {
        "id": "jKy81SY-xCP5"
      },
      "execution_count": null,
      "outputs": []
    },
    {
      "cell_type": "code",
      "source": [
        "# Count unique emails\n",
        "unique_email_count = len(df[\"Email Address\"].unique())\n",
        "\n",
        "# Print the result\n",
        "print(\"Number of unique emails:\", unique_email_count)"
      ],
      "metadata": {
        "id": "iatrHoB9xNrd"
      },
      "execution_count": null,
      "outputs": []
    },
    {
      "cell_type": "code",
      "source": [
        "# Count unique name\n",
        "unique_name_count = len(df[\"รายชื่อผู้เข้าร่วมโครงการ งานห้องปฏิบัติการวิจัย\"].unique())\n",
        "\n",
        "# Print the result\n",
        "print(\"Number of unique name:\", unique_name_count)"
      ],
      "metadata": {
        "id": "72CPrzYrxmQ_"
      },
      "execution_count": null,
      "outputs": []
    },
    {
      "cell_type": "code",
      "source": [
        "# Iterate through each unique value and filter the DataFrame\n",
        "for name in unique_values:\n",
        "    filtered_df = df[df['รายชื่อผู้เข้าร่วมโครงการ งานห้องปฏิบัติการวิจัย'] == name]\n",
        "\n",
        "    # Export the filtered DataFrame to a CSV file\n",
        "    file_name = f\"{name}.csv\"  # Create a filename based on the unique value\n",
        "    filtered_df2.to_excel(file_name, index=False, engine='openpyxl')"
      ],
      "metadata": {
        "id": "LkUbOxn7vKiS"
      },
      "execution_count": null,
      "outputs": []
    },
    {
      "cell_type": "code",
      "source": [
        "import zipfile\n",
        "\n",
        "# Create a list of the filenames that you want to zip\n",
        "filenames = [f\"{name}.csv\" for name in unique_values]\n",
        "\n",
        "# Create a ZIP file object\n",
        "with zipfile.ZipFile(\"Activity.zip\", \"w\") as zip_file:\n",
        "\n",
        "    # Add each file to the ZIP file\n",
        "    for filename in filenames:\n",
        "        zip_file.write(filename)\n",
        "\n",
        "# Close the ZIP file\n",
        "zip_file.close()"
      ],
      "metadata": {
        "id": "1eL1NDeXVlNh"
      },
      "execution_count": null,
      "outputs": []
    },
    {
      "cell_type": "code",
      "source": [
        "def find_most_active(df):\n",
        "    # Extract date only, discarding time components\n",
        "    df['date'] = df['Timestamp'].dt.date\n",
        "\n",
        "    # Count unique occurrences per name and date\n",
        "    daily_counts = df.groupby(['รายชื่อผู้เข้าร่วมโครงการ งานห้องปฏิบัติการวิจัย', 'date'])['Timestamp'].count().reset_index(name ='count')\n",
        "\n",
        "    # Find those with maximum registrations across days\n",
        "    return daily_counts[daily_counts['count'] == daily_counts.groupby('รายชื่อผู้เข้าร่วมโครงการ งานห้องปฏิบัติการวิจัย')['count'].transform(max)]\n",
        "\n",
        "def count_registration_days(df):\n",
        "    # Extract date only\n",
        "    df['date'] = df['Timestamp'].dt.date\n",
        "\n",
        "    # Count the number of unique dates for each name\n",
        "    registration_days = df.groupby('รายชื่อผู้เข้าร่วมโครงการ งานห้องปฏิบัติการวิจัย')['date'].nunique().reset_index(name='count')\n",
        "\n",
        "     # Sort by count in descending order\n",
        "    return registration_days.sort_values(by='count', ascending=False)\n"
      ],
      "metadata": {
        "id": "OrGjqRPLvQIL"
      },
      "execution_count": null,
      "outputs": []
    },
    {
      "cell_type": "code",
      "source": [
        "print(\"Person(s) with most registrations:\")\n",
        "print(find_most_active(df.copy()))\n",
        "\n",
        "print(\"\\nRegistration days per person:\")\n",
        "print(count_registration_days(df.copy()))"
      ],
      "metadata": {
        "id": "Pr7oToSey6WU"
      },
      "execution_count": null,
      "outputs": []
    },
    {
      "cell_type": "code",
      "source": [
        "registration_counts_df = count_registration_days(df.copy())\n",
        "registration_counts_df.to_excel('most_active_person.xlsx', index=False)"
      ],
      "metadata": {
        "id": "SeXXD-0Vy8Vl"
      },
      "execution_count": null,
      "outputs": []
    }
  ]
}