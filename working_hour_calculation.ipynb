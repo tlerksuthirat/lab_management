{
  "nbformat": 4,
  "nbformat_minor": 0,
  "metadata": {
    "colab": {
      "provenance": [],
      "include_colab_link": true
    },
    "kernelspec": {
      "name": "python3",
      "display_name": "Python 3"
    },
    "language_info": {
      "name": "python"
    }
  },
  "cells": [
    {
      "cell_type": "markdown",
      "metadata": {
        "id": "view-in-github",
        "colab_type": "text"
      },
      "source": [
        "<a href=\"https://colab.research.google.com/github/tlerksuthirat/lab_management/blob/main/working_hour_calculation.ipynb\" target=\"_parent\"><img src=\"https://colab.research.google.com/assets/colab-badge.svg\" alt=\"Open In Colab\"/></a>"
      ]
    },
    {
      "cell_type": "code",
      "execution_count": null,
      "metadata": {
        "id": "8zUIbnP9kS4V"
      },
      "outputs": [],
      "source": [
        "import calendar\n",
        "import datetime\n",
        "from ipywidgets import interact_manual\n",
        "from ipywidgets import IntText, Button, HBox, VBox, Output\n",
        "from ipywidgets import Layout\n",
        "from ipywidgets import FloatText"
      ]
    },
    {
      "cell_type": "code",
      "source": [
        "def count_saturdays_and_sundays(year):\n",
        "    start_date = datetime.date(year, 1, 1)\n",
        "    end_date = datetime.date(year, 12, 31)\n",
        "    days_diff = (end_date - start_date).days + 1\n",
        "\n",
        "    saturdays = 0\n",
        "    sundays = 0\n",
        "\n",
        "    for day in range(days_diff):\n",
        "        current_date = start_date + datetime.timedelta(days=day)\n",
        "        if current_date.weekday() == 5:  # Saturday\n",
        "            saturdays += 1\n",
        "        elif current_date.weekday() == 6:  # Sunday\n",
        "            sundays += 1\n",
        "\n",
        "    return saturdays, sundays"
      ],
      "metadata": {
        "id": "ZOCq63MZuey0"
      },
      "execution_count": null,
      "outputs": []
    },
    {
      "cell_type": "code",
      "source": [
        "def number_of_days_in_year(year):\n",
        "    if calendar.isleap(year):\n",
        "        return 366\n",
        "    else:\n",
        "        return 365\n",
        "\n",
        "def calculate_working_hours(year, hours_per_day, days_off, saturdays, sundays):\n",
        "    days_in_year = number_of_days_in_year(year)\n",
        "    working_days = days_in_year - days_off\n",
        "    working_hours = working_days * hours_per_day\n",
        "    working_hours_no_sat_sun = (working_days - saturdays - sundays) * hours_per_day\n",
        "    return working_hours, working_hours_no_sat_sun"
      ],
      "metadata": {
        "id": "pP9_O_wEkbys"
      },
      "execution_count": null,
      "outputs": []
    },
    {
      "cell_type": "code",
      "source": [
        "def decimal_to_hour_minute(decimal_value):\n",
        "    hours = int(decimal_value)\n",
        "    minutes = int((decimal_value - hours) * 60)\n",
        "    return hours, minutes"
      ],
      "metadata": {
        "id": "Qt4QKaBgeRhd"
      },
      "execution_count": null,
      "outputs": []
    },
    {
      "cell_type": "code",
      "source": [
        "def on_calculate_button_click(button):\n",
        "    year = year_input.value\n",
        "    hours_per_day = hours_per_day_input.value\n",
        "    days_off = days_off_input.value\n",
        "\n",
        "    if not all([year, hours_per_day, days_off]):\n",
        "        result = 'Please fill in all input fields.'\n",
        "    else:\n",
        "        saturdays, sundays = count_saturdays_and_sundays(year)\n",
        "        working_hours, working_hours_no_sat_sun = calculate_working_hours(year, hours_per_day, days_off, saturdays, sundays)\n",
        "\n",
        "        working_hours_h, working_hours_m = decimal_to_hour_minute(working_hours)\n",
        "        working_hours_no_sat_sun_h, working_hours_no_sat_sun_m = decimal_to_hour_minute(working_hours_no_sat_sun)\n",
        "\n",
        "        result = f'Total working hours: {working_hours_h} hours and {working_hours_m} minutes\\nTotal working hours (excluding Saturdays and Sundays): {working_hours_no_sat_sun_h} hours and {working_hours_no_sat_sun_m} minutes\\nIn {year}, there are {saturdays} Saturdays and {sundays} Sundays.'\n",
        "\n",
        "    with output:\n",
        "        output.clear_output()\n",
        "        print(result)"
      ],
      "metadata": {
        "id": "LskvFLIVlSvc"
      },
      "execution_count": null,
      "outputs": []
    },
    {
      "cell_type": "code",
      "source": [
        "input_layout = Layout(margin='0 0 10px 0')  # Bottom margin of 10px\n",
        "output_layout = Layout(margin='10px 0 0 0')  # Top margin of 10px\n",
        "hours_per_day_layout = Layout(width='200px', margin='0 0 10px 30px')  # Width of 200px, bottom margin of 10px, and left margin of 30px"
      ],
      "metadata": {
        "id": "C1YCzqKPmqGQ"
      },
      "execution_count": null,
      "outputs": []
    },
    {
      "cell_type": "code",
      "source": [
        "year_input = IntText(description='Year:', value=None)\n",
        "hours_per_day_input = IntText(description='Hours/day:', value=None)\n",
        "days_off_input = FloatText(description='Days off:', value=None)\n",
        "#days_off_input = IntText(description='Days off:', value=None) -- only integer\n",
        "calculate_button = Button(description='Calculate')\n",
        "output = Output()\n",
        "\n",
        "inputs = VBox([\n",
        "    HBox([year_input, hours_per_day_input, days_off_input]),\n",
        "    calculate_button,\n",
        "    output\n",
        "])"
      ],
      "metadata": {
        "id": "t9sHq4QFlI9g"
      },
      "execution_count": null,
      "outputs": []
    },
    {
      "cell_type": "code",
      "source": [
        "# Applying layout to widgets\n",
        "year_input.layout = input_layout\n",
        "hours_per_day_input.layout = hours_per_day_layout\n",
        "days_off_input.layout = input_layout\n",
        "output.layout = output_layout"
      ],
      "metadata": {
        "id": "nVjYM88bobAS"
      },
      "execution_count": null,
      "outputs": []
    },
    {
      "cell_type": "code",
      "source": [
        "inputs = VBox([\n",
        "    HBox([year_input, hours_per_day_input, days_off_input]),\n",
        "    calculate_button,\n",
        "    output\n",
        "])\n",
        "\n",
        "calculate_button.on_click(on_calculate_button_click)\n",
        "\n",
        "display(inputs)"
      ],
      "metadata": {
        "id": "jlBClO97ytgk"
      },
      "execution_count": null,
      "outputs": []
    }
  ]
}