{
  "nbformat": 4,
  "nbformat_minor": 0,
  "metadata": {
    "colab": {
      "provenance": [],
      "include_colab_link": true
    },
    "kernelspec": {
      "name": "python3",
      "display_name": "Python 3"
    },
    "language_info": {
      "name": "python"
    }
  },
  "cells": [
    {
      "cell_type": "markdown",
      "metadata": {
        "id": "view-in-github",
        "colab_type": "text"
      },
      "source": [
        "<a href=\"https://colab.research.google.com/github/tlerksuthirat/lab_management/blob/main/Working_hour_calculation_on_Streamlit.ipynb\" target=\"_parent\"><img src=\"https://colab.research.google.com/assets/colab-badge.svg\" alt=\"Open In Colab\"/></a>"
      ]
    },
    {
      "cell_type": "code",
      "execution_count": 1,
      "metadata": {
        "id": "8zUIbnP9kS4V"
      },
      "outputs": [],
      "source": [
        "import streamlit as st\n",
        "import calendar\n",
        "import datetime"
      ]
    },
    {
      "cell_type": "code",
      "source": [
        "def count_saturdays_and_sundays(year):\n",
        "    start_date = datetime.date(year, 1, 1)\n",
        "    end_date = datetime.date(year, 12, 31)\n",
        "    days_diff = (end_date - start_date).days + 1\n",
        "\n",
        "    saturdays = 0\n",
        "    sundays = 0\n",
        "\n",
        "    for day in range(days_diff):\n",
        "        current_date = start_date + datetime.timedelta(days=day)\n",
        "        if current_date.weekday() == 5:  # Saturday\n",
        "            saturdays += 1\n",
        "        elif current_date.weekday() == 6:  # Sunday\n",
        "            sundays += 1\n",
        "\n",
        "    return saturdays, sundays"
      ],
      "metadata": {
        "id": "ZOCq63MZuey0"
      },
      "execution_count": 2,
      "outputs": []
    },
    {
      "cell_type": "code",
      "source": [
        "def number_of_days_in_year(year):\n",
        "    if calendar.isleap(year):\n",
        "        return 366\n",
        "    else:\n",
        "        return 365\n",
        "\n",
        "def calculate_working_hours(year, hours_per_day, days_off, saturdays, sundays):\n",
        "    days_in_year = number_of_days_in_year(year)\n",
        "    working_days = days_in_year - days_off\n",
        "    working_hours = working_days * hours_per_day\n",
        "    working_hours_no_sat_sun = (working_days - saturdays - sundays) * hours_per_day\n",
        "    return working_hours, working_hours_no_sat_sun"
      ],
      "metadata": {
        "id": "pP9_O_wEkbys"
      },
      "execution_count": 3,
      "outputs": []
    },
    {
      "cell_type": "code",
      "source": [
        "def decimal_to_hour_minute(decimal_value):\n",
        "    hours = int(decimal_value)\n",
        "    minutes = int((decimal_value - hours) * 60)\n",
        "    return hours, minutes"
      ],
      "metadata": {
        "id": "Qt4QKaBgeRhd"
      },
      "execution_count": 4,
      "outputs": []
    },
    {
      "cell_type": "code",
      "source": [
        " # Streamlit app layout\n",
        "    st.title('Working Hours Calculator')\n",
        "\n",
        "    year = st.number_input('Year:', min_value=1900, max_value=2100, step=1)\n",
        "    hours_per_day = st.number_input('Hours/day:', min_value=0.0, step=0.1)\n",
        "    days_off = st.number_input('Days off:', min_value=0.0, step=0.1)\n",
        "\n",
        "    if st.button('Calculate'):\n",
        "        if not all([year, hours_per_per_day, days_off]):\n",
        "             st.write('Please fill in all input fields.')\n",
        "        else:\n",
        "            saturdays, sundays = count_saturdays_and_sundays(year)\n",
        "            working_hours, working_hours_no_sat_sun = calculate_working_hours(year, hours_per_day, days_off, saturdays, sundays)\n",
        "\n",
        "            working_hours_h, working_hours_m = decimal_to_hour_minute(working_hours)\n",
        "            working_hours_no_sat_sun_h, working_hours_no_sat_sun_m = decimal_to_hour_minute(working_hours_no_sat_sun)\n",
        "\n",
        "            st.write(f'Total working hours: {working_hours_h} hours and {working_hours_m} minutes')\n",
        "            st.write(f'Total working hours (excluding Saturdays and Sundays): {working_hours_no_sat_sun_h} hours and {working_hours_no_sat_sun_m} minutes')\n",
        "            st.write(f'In {year}, there are {saturdays} Saturdays and {sundays} Sundays.')"
      ],
      "metadata": {
        "id": "aAI2yv46d8Nu"
      },
      "execution_count": null,
      "outputs": []
    }
  ]
}