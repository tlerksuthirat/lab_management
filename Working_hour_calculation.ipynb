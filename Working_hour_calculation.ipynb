{
  "nbformat": 4,
  "nbformat_minor": 0,
  "metadata": {
    "colab": {
      "provenance": [],
      "authorship_tag": "ABX9TyOF9MvCms8iwqTwGVCS9m3w",
      "include_colab_link": true
    },
    "kernelspec": {
      "name": "python3",
      "display_name": "Python 3"
    },
    "language_info": {
      "name": "python"
    },
    "widgets": {
      "application/vnd.jupyter.widget-state+json": {
        "9e09a0d22daf4e50ba858b553f1059cf": {
          "model_module": "@jupyter-widgets/controls",
          "model_name": "VBoxModel",
          "model_module_version": "1.5.0",
          "state": {
            "_dom_classes": [],
            "_model_module": "@jupyter-widgets/controls",
            "_model_module_version": "1.5.0",
            "_model_name": "VBoxModel",
            "_view_count": null,
            "_view_module": "@jupyter-widgets/controls",
            "_view_module_version": "1.5.0",
            "_view_name": "VBoxView",
            "box_style": "",
            "children": [
              "IPY_MODEL_ec669ab63e8a4fa2abdc9c261067d9cc",
              "IPY_MODEL_a4c3a39d71ee489a8c46677ce8a8cb5c",
              "IPY_MODEL_13acc109d6794cd5971d70515d816d1a"
            ],
            "layout": "IPY_MODEL_c8acf2c14b434b2085b1eb862247b467"
          }
        },
        "ec669ab63e8a4fa2abdc9c261067d9cc": {
          "model_module": "@jupyter-widgets/controls",
          "model_name": "HBoxModel",
          "model_module_version": "1.5.0",
          "state": {
            "_dom_classes": [],
            "_model_module": "@jupyter-widgets/controls",
            "_model_module_version": "1.5.0",
            "_model_name": "HBoxModel",
            "_view_count": null,
            "_view_module": "@jupyter-widgets/controls",
            "_view_module_version": "1.5.0",
            "_view_name": "HBoxView",
            "box_style": "",
            "children": [
              "IPY_MODEL_d85212bd91594606b231746239a895c8",
              "IPY_MODEL_7a384a04b53644a89217e6d72e494e64",
              "IPY_MODEL_d44e6ce05e72439bbbf5831c66f8ecde"
            ],
            "layout": "IPY_MODEL_fce51daa3a9440f5adf9bb664214ce70"
          }
        },
        "a4c3a39d71ee489a8c46677ce8a8cb5c": {
          "model_module": "@jupyter-widgets/controls",
          "model_name": "ButtonModel",
          "model_module_version": "1.5.0",
          "state": {
            "_dom_classes": [],
            "_model_module": "@jupyter-widgets/controls",
            "_model_module_version": "1.5.0",
            "_model_name": "ButtonModel",
            "_view_count": null,
            "_view_module": "@jupyter-widgets/controls",
            "_view_module_version": "1.5.0",
            "_view_name": "ButtonView",
            "button_style": "",
            "description": "Calculate",
            "disabled": false,
            "icon": "",
            "layout": "IPY_MODEL_9f4151d740b542b79969537b81d4335b",
            "style": "IPY_MODEL_36b24a70642f479b8083478b8ae67cfd",
            "tooltip": ""
          }
        },
        "13acc109d6794cd5971d70515d816d1a": {
          "model_module": "@jupyter-widgets/output",
          "model_name": "OutputModel",
          "model_module_version": "1.0.0",
          "state": {
            "_dom_classes": [],
            "_model_module": "@jupyter-widgets/output",
            "_model_module_version": "1.0.0",
            "_model_name": "OutputModel",
            "_view_count": null,
            "_view_module": "@jupyter-widgets/output",
            "_view_module_version": "1.0.0",
            "_view_name": "OutputView",
            "layout": "IPY_MODEL_08ac4a349fbb454c904aa9c611190f5b",
            "msg_id": "",
            "outputs": [
              {
                "output_type": "stream",
                "name": "stdout",
                "text": [
                  "Total working hours: 2464 hours and 0 minutes\n",
                  "Total working hours (excluding Saturdays and Sundays): 1736 hours and 0 minutes\n",
                  "In 2020, there are 52 Saturdays and 52 Sundays.\n"
                ]
              }
            ]
          }
        },
        "c8acf2c14b434b2085b1eb862247b467": {
          "model_module": "@jupyter-widgets/base",
          "model_name": "LayoutModel",
          "model_module_version": "1.2.0",
          "state": {
            "_model_module": "@jupyter-widgets/base",
            "_model_module_version": "1.2.0",
            "_model_name": "LayoutModel",
            "_view_count": null,
            "_view_module": "@jupyter-widgets/base",
            "_view_module_version": "1.2.0",
            "_view_name": "LayoutView",
            "align_content": null,
            "align_items": null,
            "align_self": null,
            "border": null,
            "bottom": null,
            "display": null,
            "flex": null,
            "flex_flow": null,
            "grid_area": null,
            "grid_auto_columns": null,
            "grid_auto_flow": null,
            "grid_auto_rows": null,
            "grid_column": null,
            "grid_gap": null,
            "grid_row": null,
            "grid_template_areas": null,
            "grid_template_columns": null,
            "grid_template_rows": null,
            "height": null,
            "justify_content": null,
            "justify_items": null,
            "left": null,
            "margin": null,
            "max_height": null,
            "max_width": null,
            "min_height": null,
            "min_width": null,
            "object_fit": null,
            "object_position": null,
            "order": null,
            "overflow": null,
            "overflow_x": null,
            "overflow_y": null,
            "padding": null,
            "right": null,
            "top": null,
            "visibility": null,
            "width": null
          }
        },
        "d85212bd91594606b231746239a895c8": {
          "model_module": "@jupyter-widgets/controls",
          "model_name": "IntTextModel",
          "model_module_version": "1.5.0",
          "state": {
            "_dom_classes": [],
            "_model_module": "@jupyter-widgets/controls",
            "_model_module_version": "1.5.0",
            "_model_name": "IntTextModel",
            "_view_count": null,
            "_view_module": "@jupyter-widgets/controls",
            "_view_module_version": "1.5.0",
            "_view_name": "IntTextView",
            "continuous_update": false,
            "description": "Year:",
            "description_tooltip": null,
            "disabled": false,
            "layout": "IPY_MODEL_706a4072813f433fa89b369ecb55aced",
            "step": 1,
            "style": "IPY_MODEL_a434e9882dfb4957b25a92928d917a73",
            "value": 2020
          }
        },
        "7a384a04b53644a89217e6d72e494e64": {
          "model_module": "@jupyter-widgets/controls",
          "model_name": "IntTextModel",
          "model_module_version": "1.5.0",
          "state": {
            "_dom_classes": [],
            "_model_module": "@jupyter-widgets/controls",
            "_model_module_version": "1.5.0",
            "_model_name": "IntTextModel",
            "_view_count": null,
            "_view_module": "@jupyter-widgets/controls",
            "_view_module_version": "1.5.0",
            "_view_name": "IntTextView",
            "continuous_update": false,
            "description": "Hours/day:",
            "description_tooltip": null,
            "disabled": false,
            "layout": "IPY_MODEL_7d074f28ff414d84839a65fa8f417055",
            "step": 1,
            "style": "IPY_MODEL_5fef8eeba594487aaf80acfcfc3d17ee",
            "value": 7
          }
        },
        "d44e6ce05e72439bbbf5831c66f8ecde": {
          "model_module": "@jupyter-widgets/controls",
          "model_name": "FloatTextModel",
          "model_module_version": "1.5.0",
          "state": {
            "_dom_classes": [],
            "_model_module": "@jupyter-widgets/controls",
            "_model_module_version": "1.5.0",
            "_model_name": "FloatTextModel",
            "_view_count": null,
            "_view_module": "@jupyter-widgets/controls",
            "_view_module_version": "1.5.0",
            "_view_name": "FloatTextView",
            "continuous_update": false,
            "description": "Days off:",
            "description_tooltip": null,
            "disabled": false,
            "layout": "IPY_MODEL_706a4072813f433fa89b369ecb55aced",
            "step": null,
            "style": "IPY_MODEL_699d41ae94134c2393f200cf9beb0244",
            "value": 14
          }
        },
        "fce51daa3a9440f5adf9bb664214ce70": {
          "model_module": "@jupyter-widgets/base",
          "model_name": "LayoutModel",
          "model_module_version": "1.2.0",
          "state": {
            "_model_module": "@jupyter-widgets/base",
            "_model_module_version": "1.2.0",
            "_model_name": "LayoutModel",
            "_view_count": null,
            "_view_module": "@jupyter-widgets/base",
            "_view_module_version": "1.2.0",
            "_view_name": "LayoutView",
            "align_content": null,
            "align_items": null,
            "align_self": null,
            "border": null,
            "bottom": null,
            "display": null,
            "flex": null,
            "flex_flow": null,
            "grid_area": null,
            "grid_auto_columns": null,
            "grid_auto_flow": null,
            "grid_auto_rows": null,
            "grid_column": null,
            "grid_gap": null,
            "grid_row": null,
            "grid_template_areas": null,
            "grid_template_columns": null,
            "grid_template_rows": null,
            "height": null,
            "justify_content": null,
            "justify_items": null,
            "left": null,
            "margin": null,
            "max_height": null,
            "max_width": null,
            "min_height": null,
            "min_width": null,
            "object_fit": null,
            "object_position": null,
            "order": null,
            "overflow": null,
            "overflow_x": null,
            "overflow_y": null,
            "padding": null,
            "right": null,
            "top": null,
            "visibility": null,
            "width": null
          }
        },
        "9f4151d740b542b79969537b81d4335b": {
          "model_module": "@jupyter-widgets/base",
          "model_name": "LayoutModel",
          "model_module_version": "1.2.0",
          "state": {
            "_model_module": "@jupyter-widgets/base",
            "_model_module_version": "1.2.0",
            "_model_name": "LayoutModel",
            "_view_count": null,
            "_view_module": "@jupyter-widgets/base",
            "_view_module_version": "1.2.0",
            "_view_name": "LayoutView",
            "align_content": null,
            "align_items": null,
            "align_self": null,
            "border": null,
            "bottom": null,
            "display": null,
            "flex": null,
            "flex_flow": null,
            "grid_area": null,
            "grid_auto_columns": null,
            "grid_auto_flow": null,
            "grid_auto_rows": null,
            "grid_column": null,
            "grid_gap": null,
            "grid_row": null,
            "grid_template_areas": null,
            "grid_template_columns": null,
            "grid_template_rows": null,
            "height": null,
            "justify_content": null,
            "justify_items": null,
            "left": null,
            "margin": null,
            "max_height": null,
            "max_width": null,
            "min_height": null,
            "min_width": null,
            "object_fit": null,
            "object_position": null,
            "order": null,
            "overflow": null,
            "overflow_x": null,
            "overflow_y": null,
            "padding": null,
            "right": null,
            "top": null,
            "visibility": null,
            "width": null
          }
        },
        "36b24a70642f479b8083478b8ae67cfd": {
          "model_module": "@jupyter-widgets/controls",
          "model_name": "ButtonStyleModel",
          "model_module_version": "1.5.0",
          "state": {
            "_model_module": "@jupyter-widgets/controls",
            "_model_module_version": "1.5.0",
            "_model_name": "ButtonStyleModel",
            "_view_count": null,
            "_view_module": "@jupyter-widgets/base",
            "_view_module_version": "1.2.0",
            "_view_name": "StyleView",
            "button_color": null,
            "font_weight": ""
          }
        },
        "706a4072813f433fa89b369ecb55aced": {
          "model_module": "@jupyter-widgets/base",
          "model_name": "LayoutModel",
          "model_module_version": "1.2.0",
          "state": {
            "_model_module": "@jupyter-widgets/base",
            "_model_module_version": "1.2.0",
            "_model_name": "LayoutModel",
            "_view_count": null,
            "_view_module": "@jupyter-widgets/base",
            "_view_module_version": "1.2.0",
            "_view_name": "LayoutView",
            "align_content": null,
            "align_items": null,
            "align_self": null,
            "border": null,
            "bottom": null,
            "display": null,
            "flex": null,
            "flex_flow": null,
            "grid_area": null,
            "grid_auto_columns": null,
            "grid_auto_flow": null,
            "grid_auto_rows": null,
            "grid_column": null,
            "grid_gap": null,
            "grid_row": null,
            "grid_template_areas": null,
            "grid_template_columns": null,
            "grid_template_rows": null,
            "height": null,
            "justify_content": null,
            "justify_items": null,
            "left": null,
            "margin": "0 0 10px 0",
            "max_height": null,
            "max_width": null,
            "min_height": null,
            "min_width": null,
            "object_fit": null,
            "object_position": null,
            "order": null,
            "overflow": null,
            "overflow_x": null,
            "overflow_y": null,
            "padding": null,
            "right": null,
            "top": null,
            "visibility": null,
            "width": null
          }
        },
        "a434e9882dfb4957b25a92928d917a73": {
          "model_module": "@jupyter-widgets/controls",
          "model_name": "DescriptionStyleModel",
          "model_module_version": "1.5.0",
          "state": {
            "_model_module": "@jupyter-widgets/controls",
            "_model_module_version": "1.5.0",
            "_model_name": "DescriptionStyleModel",
            "_view_count": null,
            "_view_module": "@jupyter-widgets/base",
            "_view_module_version": "1.2.0",
            "_view_name": "StyleView",
            "description_width": ""
          }
        },
        "7d074f28ff414d84839a65fa8f417055": {
          "model_module": "@jupyter-widgets/base",
          "model_name": "LayoutModel",
          "model_module_version": "1.2.0",
          "state": {
            "_model_module": "@jupyter-widgets/base",
            "_model_module_version": "1.2.0",
            "_model_name": "LayoutModel",
            "_view_count": null,
            "_view_module": "@jupyter-widgets/base",
            "_view_module_version": "1.2.0",
            "_view_name": "LayoutView",
            "align_content": null,
            "align_items": null,
            "align_self": null,
            "border": null,
            "bottom": null,
            "display": null,
            "flex": null,
            "flex_flow": null,
            "grid_area": null,
            "grid_auto_columns": null,
            "grid_auto_flow": null,
            "grid_auto_rows": null,
            "grid_column": null,
            "grid_gap": null,
            "grid_row": null,
            "grid_template_areas": null,
            "grid_template_columns": null,
            "grid_template_rows": null,
            "height": null,
            "justify_content": null,
            "justify_items": null,
            "left": null,
            "margin": "0 0 10px 30px",
            "max_height": null,
            "max_width": null,
            "min_height": null,
            "min_width": null,
            "object_fit": null,
            "object_position": null,
            "order": null,
            "overflow": null,
            "overflow_x": null,
            "overflow_y": null,
            "padding": null,
            "right": null,
            "top": null,
            "visibility": null,
            "width": "200px"
          }
        },
        "5fef8eeba594487aaf80acfcfc3d17ee": {
          "model_module": "@jupyter-widgets/controls",
          "model_name": "DescriptionStyleModel",
          "model_module_version": "1.5.0",
          "state": {
            "_model_module": "@jupyter-widgets/controls",
            "_model_module_version": "1.5.0",
            "_model_name": "DescriptionStyleModel",
            "_view_count": null,
            "_view_module": "@jupyter-widgets/base",
            "_view_module_version": "1.2.0",
            "_view_name": "StyleView",
            "description_width": ""
          }
        },
        "699d41ae94134c2393f200cf9beb0244": {
          "model_module": "@jupyter-widgets/controls",
          "model_name": "DescriptionStyleModel",
          "model_module_version": "1.5.0",
          "state": {
            "_model_module": "@jupyter-widgets/controls",
            "_model_module_version": "1.5.0",
            "_model_name": "DescriptionStyleModel",
            "_view_count": null,
            "_view_module": "@jupyter-widgets/base",
            "_view_module_version": "1.2.0",
            "_view_name": "StyleView",
            "description_width": ""
          }
        },
        "08ac4a349fbb454c904aa9c611190f5b": {
          "model_module": "@jupyter-widgets/base",
          "model_name": "LayoutModel",
          "model_module_version": "1.2.0",
          "state": {
            "_model_module": "@jupyter-widgets/base",
            "_model_module_version": "1.2.0",
            "_model_name": "LayoutModel",
            "_view_count": null,
            "_view_module": "@jupyter-widgets/base",
            "_view_module_version": "1.2.0",
            "_view_name": "LayoutView",
            "align_content": null,
            "align_items": null,
            "align_self": null,
            "border": null,
            "bottom": null,
            "display": null,
            "flex": null,
            "flex_flow": null,
            "grid_area": null,
            "grid_auto_columns": null,
            "grid_auto_flow": null,
            "grid_auto_rows": null,
            "grid_column": null,
            "grid_gap": null,
            "grid_row": null,
            "grid_template_areas": null,
            "grid_template_columns": null,
            "grid_template_rows": null,
            "height": null,
            "justify_content": null,
            "justify_items": null,
            "left": null,
            "margin": "10px 0 0 0",
            "max_height": null,
            "max_width": null,
            "min_height": null,
            "min_width": null,
            "object_fit": null,
            "object_position": null,
            "order": null,
            "overflow": null,
            "overflow_x": null,
            "overflow_y": null,
            "padding": null,
            "right": null,
            "top": null,
            "visibility": null,
            "width": null
          }
        }
      }
    }
  },
  "cells": [
    {
      "cell_type": "markdown",
      "metadata": {
        "id": "view-in-github",
        "colab_type": "text"
      },
      "source": [
        "<a href=\"https://colab.research.google.com/github/tlerksuthirat/lab_management/blob/main/Working_hour_calculation.ipynb\" target=\"_parent\"><img src=\"https://colab.research.google.com/assets/colab-badge.svg\" alt=\"Open In Colab\"/></a>"
      ]
    },
    {
      "cell_type": "code",
      "execution_count": 41,
      "metadata": {
        "id": "8zUIbnP9kS4V"
      },
      "outputs": [],
      "source": [
        "import calendar\n",
        "import datetime\n",
        "from ipywidgets import interact_manual\n",
        "from ipywidgets import IntText, Button, HBox, VBox, Output\n",
        "from ipywidgets import Layout\n",
        "from ipywidgets import FloatText"
      ]
    },
    {
      "cell_type": "code",
      "source": [
        "def count_saturdays_and_sundays(year):\n",
        "    start_date = datetime.date(year, 1, 1)\n",
        "    end_date = datetime.date(year, 12, 31)\n",
        "    days_diff = (end_date - start_date).days + 1\n",
        "    \n",
        "    saturdays = 0\n",
        "    sundays = 0\n",
        "\n",
        "    for day in range(days_diff):\n",
        "        current_date = start_date + datetime.timedelta(days=day)\n",
        "        if current_date.weekday() == 5:  # Saturday\n",
        "            saturdays += 1\n",
        "        elif current_date.weekday() == 6:  # Sunday\n",
        "            sundays += 1\n",
        "            \n",
        "    return saturdays, sundays"
      ],
      "metadata": {
        "id": "ZOCq63MZuey0"
      },
      "execution_count": 42,
      "outputs": []
    },
    {
      "cell_type": "code",
      "source": [
        "def number_of_days_in_year(year):\n",
        "    if calendar.isleap(year):\n",
        "        return 366\n",
        "    else:\n",
        "        return 365\n",
        "\n",
        "def calculate_working_hours(year, hours_per_day, days_off, saturdays, sundays):\n",
        "    days_in_year = number_of_days_in_year(year)\n",
        "    working_days = days_in_year - days_off\n",
        "    working_hours = working_days * hours_per_day\n",
        "    working_hours_no_sat_sun = (working_days - saturdays - sundays) * hours_per_day\n",
        "    return working_hours, working_hours_no_sat_sun"
      ],
      "metadata": {
        "id": "pP9_O_wEkbys"
      },
      "execution_count": 43,
      "outputs": []
    },
    {
      "cell_type": "code",
      "source": [
        "def decimal_to_hour_minute(decimal_value):\n",
        "    hours = int(decimal_value)\n",
        "    minutes = int((decimal_value - hours) * 60)\n",
        "    return hours, minutes"
      ],
      "metadata": {
        "id": "Qt4QKaBgeRhd"
      },
      "execution_count": 44,
      "outputs": []
    },
    {
      "cell_type": "code",
      "source": [
        "def on_calculate_button_click(button):\n",
        "    year = year_input.value\n",
        "    hours_per_day = hours_per_day_input.value\n",
        "    days_off = days_off_input.value\n",
        "\n",
        "    if not all([year, hours_per_day, days_off]):\n",
        "        result = 'Please fill in all input fields.'\n",
        "    else:\n",
        "        saturdays, sundays = count_saturdays_and_sundays(year)\n",
        "        working_hours, working_hours_no_sat_sun = calculate_working_hours(year, hours_per_day, days_off, saturdays, sundays)\n",
        "        \n",
        "        working_hours_h, working_hours_m = decimal_to_hour_minute(working_hours)\n",
        "        working_hours_no_sat_sun_h, working_hours_no_sat_sun_m = decimal_to_hour_minute(working_hours_no_sat_sun)\n",
        "        \n",
        "        result = f'Total working hours: {working_hours_h} hours and {working_hours_m} minutes\\nTotal working hours (excluding Saturdays and Sundays): {working_hours_no_sat_sun_h} hours and {working_hours_no_sat_sun_m} minutes\\nIn {year}, there are {saturdays} Saturdays and {sundays} Sundays.'\n",
        "\n",
        "    with output:\n",
        "        output.clear_output()\n",
        "        print(result)"
      ],
      "metadata": {
        "id": "LskvFLIVlSvc"
      },
      "execution_count": 45,
      "outputs": []
    },
    {
      "cell_type": "code",
      "source": [
        "input_layout = Layout(margin='0 0 10px 0')  # Bottom margin of 10px\n",
        "output_layout = Layout(margin='10px 0 0 0')  # Top margin of 10px\n",
        "hours_per_day_layout = Layout(width='200px', margin='0 0 10px 30px')  # Width of 200px, bottom margin of 10px, and left margin of 30px"
      ],
      "metadata": {
        "id": "C1YCzqKPmqGQ"
      },
      "execution_count": 46,
      "outputs": []
    },
    {
      "cell_type": "code",
      "source": [
        "year_input = IntText(description='Year:', value=None)\n",
        "hours_per_day_input = IntText(description='Hours/day:', value=None)\n",
        "days_off_input = FloatText(description='Days off:', value=None)\n",
        "#days_off_input = IntText(description='Days off:', value=None) -- only integer\n",
        "calculate_button = Button(description='Calculate')\n",
        "output = Output()\n",
        "\n",
        "inputs = VBox([\n",
        "    HBox([year_input, hours_per_day_input, days_off_input]),\n",
        "    calculate_button,\n",
        "    output\n",
        "])"
      ],
      "metadata": {
        "id": "t9sHq4QFlI9g"
      },
      "execution_count": 47,
      "outputs": []
    },
    {
      "cell_type": "code",
      "source": [
        "# Applying layout to widgets\n",
        "year_input.layout = input_layout\n",
        "hours_per_day_input.layout = hours_per_day_layout\n",
        "days_off_input.layout = input_layout\n",
        "output.layout = output_layout"
      ],
      "metadata": {
        "id": "nVjYM88bobAS"
      },
      "execution_count": 48,
      "outputs": []
    },
    {
      "cell_type": "code",
      "source": [
        "inputs = VBox([\n",
        "    HBox([year_input, hours_per_day_input, days_off_input]),\n",
        "    calculate_button,\n",
        "    output\n",
        "])\n",
        "\n",
        "calculate_button.on_click(on_calculate_button_click)\n",
        "\n",
        "display(inputs)"
      ],
      "metadata": {
        "colab": {
          "base_uri": "https://localhost:8080/",
          "height": 152,
          "referenced_widgets": [
            "9e09a0d22daf4e50ba858b553f1059cf",
            "ec669ab63e8a4fa2abdc9c261067d9cc",
            "a4c3a39d71ee489a8c46677ce8a8cb5c",
            "13acc109d6794cd5971d70515d816d1a",
            "c8acf2c14b434b2085b1eb862247b467",
            "d85212bd91594606b231746239a895c8",
            "7a384a04b53644a89217e6d72e494e64",
            "d44e6ce05e72439bbbf5831c66f8ecde",
            "fce51daa3a9440f5adf9bb664214ce70",
            "9f4151d740b542b79969537b81d4335b",
            "36b24a70642f479b8083478b8ae67cfd",
            "706a4072813f433fa89b369ecb55aced",
            "a434e9882dfb4957b25a92928d917a73",
            "7d074f28ff414d84839a65fa8f417055",
            "5fef8eeba594487aaf80acfcfc3d17ee",
            "699d41ae94134c2393f200cf9beb0244",
            "08ac4a349fbb454c904aa9c611190f5b"
          ]
        },
        "id": "jlBClO97ytgk",
        "outputId": "f8d71ae0-6788-472c-a9c4-02c53e1833f6"
      },
      "execution_count": 49,
      "outputs": [
        {
          "output_type": "display_data",
          "data": {
            "text/plain": [
              "VBox(children=(HBox(children=(IntText(value=0, description='Year:', layout=Layout(margin='0 0 10px 0')), IntTe…"
            ],
            "application/vnd.jupyter.widget-view+json": {
              "version_major": 2,
              "version_minor": 0,
              "model_id": "9e09a0d22daf4e50ba858b553f1059cf"
            }
          },
          "metadata": {}
        }
      ]
    }
  ]
}