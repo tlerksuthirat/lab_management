{
  "nbformat": 4,
  "nbformat_minor": 0,
  "metadata": {
    "colab": {
      "provenance": [],
      "authorship_tag": "ABX9TyOXHWAgppFiuKqH8CM7Cgwp",
      "include_colab_link": true
    },
    "kernelspec": {
      "name": "python3",
      "display_name": "Python 3"
    },
    "language_info": {
      "name": "python"
    },
    "widgets": {
      "application/vnd.jupyter.widget-state+json": {
        "b449b0b709994d1cb2f791ee21d7908c": {
          "model_module": "@jupyter-widgets/controls",
          "model_name": "VBoxModel",
          "model_module_version": "1.5.0",
          "state": {
            "_dom_classes": [],
            "_model_module": "@jupyter-widgets/controls",
            "_model_module_version": "1.5.0",
            "_model_name": "VBoxModel",
            "_view_count": null,
            "_view_module": "@jupyter-widgets/controls",
            "_view_module_version": "1.5.0",
            "_view_name": "VBoxView",
            "box_style": "",
            "children": [
              "IPY_MODEL_5c080f766df24417ae130850ca4a727e",
              "IPY_MODEL_5698d638c3684ed591cf47901d501333",
              "IPY_MODEL_6c0cbdae35ee40aa82768dc9b0511674"
            ],
            "layout": "IPY_MODEL_4a8c9e5623f34dc3996a4716f0880abf"
          }
        },
        "5c080f766df24417ae130850ca4a727e": {
          "model_module": "@jupyter-widgets/controls",
          "model_name": "HBoxModel",
          "model_module_version": "1.5.0",
          "state": {
            "_dom_classes": [],
            "_model_module": "@jupyter-widgets/controls",
            "_model_module_version": "1.5.0",
            "_model_name": "HBoxModel",
            "_view_count": null,
            "_view_module": "@jupyter-widgets/controls",
            "_view_module_version": "1.5.0",
            "_view_name": "HBoxView",
            "box_style": "",
            "children": [
              "IPY_MODEL_026f9134ab024e559a654d76e0a990fe",
              "IPY_MODEL_bb5854c7c5c4406e9632aa7603dbedf8",
              "IPY_MODEL_4ed5b780dd5141b59b32aa2a059f461f"
            ],
            "layout": "IPY_MODEL_dd740da004ad4939891857ba5fab9005"
          }
        },
        "5698d638c3684ed591cf47901d501333": {
          "model_module": "@jupyter-widgets/controls",
          "model_name": "ButtonModel",
          "model_module_version": "1.5.0",
          "state": {
            "_dom_classes": [],
            "_model_module": "@jupyter-widgets/controls",
            "_model_module_version": "1.5.0",
            "_model_name": "ButtonModel",
            "_view_count": null,
            "_view_module": "@jupyter-widgets/controls",
            "_view_module_version": "1.5.0",
            "_view_name": "ButtonView",
            "button_style": "",
            "description": "Calculate",
            "disabled": false,
            "icon": "",
            "layout": "IPY_MODEL_45df1d21008b40a580ee82b26e44c4bd",
            "style": "IPY_MODEL_b713a79a8c0449ca8c4a1e09f3f5a8e4",
            "tooltip": ""
          }
        },
        "6c0cbdae35ee40aa82768dc9b0511674": {
          "model_module": "@jupyter-widgets/output",
          "model_name": "OutputModel",
          "model_module_version": "1.0.0",
          "state": {
            "_dom_classes": [],
            "_model_module": "@jupyter-widgets/output",
            "_model_module_version": "1.0.0",
            "_model_name": "OutputModel",
            "_view_count": null,
            "_view_module": "@jupyter-widgets/output",
            "_view_module_version": "1.0.0",
            "_view_name": "OutputView",
            "layout": "IPY_MODEL_2f8419da23454c39810bcd1a1d7b2d5f",
            "msg_id": "",
            "outputs": [
              {
                "output_type": "stream",
                "name": "stdout",
                "text": [
                  "Total working hours: 2520\n",
                  "Total working hours (excluding Saturdays and Sundays): 1785\n",
                  "In 2023, there are 52 Saturdays and 53 Sundays.\n"
                ]
              }
            ]
          }
        },
        "4a8c9e5623f34dc3996a4716f0880abf": {
          "model_module": "@jupyter-widgets/base",
          "model_name": "LayoutModel",
          "model_module_version": "1.2.0",
          "state": {
            "_model_module": "@jupyter-widgets/base",
            "_model_module_version": "1.2.0",
            "_model_name": "LayoutModel",
            "_view_count": null,
            "_view_module": "@jupyter-widgets/base",
            "_view_module_version": "1.2.0",
            "_view_name": "LayoutView",
            "align_content": null,
            "align_items": null,
            "align_self": null,
            "border": null,
            "bottom": null,
            "display": null,
            "flex": null,
            "flex_flow": null,
            "grid_area": null,
            "grid_auto_columns": null,
            "grid_auto_flow": null,
            "grid_auto_rows": null,
            "grid_column": null,
            "grid_gap": null,
            "grid_row": null,
            "grid_template_areas": null,
            "grid_template_columns": null,
            "grid_template_rows": null,
            "height": null,
            "justify_content": null,
            "justify_items": null,
            "left": null,
            "margin": null,
            "max_height": null,
            "max_width": null,
            "min_height": null,
            "min_width": null,
            "object_fit": null,
            "object_position": null,
            "order": null,
            "overflow": null,
            "overflow_x": null,
            "overflow_y": null,
            "padding": null,
            "right": null,
            "top": null,
            "visibility": null,
            "width": null
          }
        },
        "026f9134ab024e559a654d76e0a990fe": {
          "model_module": "@jupyter-widgets/controls",
          "model_name": "IntTextModel",
          "model_module_version": "1.5.0",
          "state": {
            "_dom_classes": [],
            "_model_module": "@jupyter-widgets/controls",
            "_model_module_version": "1.5.0",
            "_model_name": "IntTextModel",
            "_view_count": null,
            "_view_module": "@jupyter-widgets/controls",
            "_view_module_version": "1.5.0",
            "_view_name": "IntTextView",
            "continuous_update": false,
            "description": "Year:",
            "description_tooltip": null,
            "disabled": false,
            "layout": "IPY_MODEL_a30b01bfeb17402aaa2d3ebd66b8a6bf",
            "step": 1,
            "style": "IPY_MODEL_d467f822d5e04bd7b58800161313c5e7",
            "value": 2023
          }
        },
        "bb5854c7c5c4406e9632aa7603dbedf8": {
          "model_module": "@jupyter-widgets/controls",
          "model_name": "IntTextModel",
          "model_module_version": "1.5.0",
          "state": {
            "_dom_classes": [],
            "_model_module": "@jupyter-widgets/controls",
            "_model_module_version": "1.5.0",
            "_model_name": "IntTextModel",
            "_view_count": null,
            "_view_module": "@jupyter-widgets/controls",
            "_view_module_version": "1.5.0",
            "_view_name": "IntTextView",
            "continuous_update": false,
            "description": "Hours/day:",
            "description_tooltip": null,
            "disabled": false,
            "layout": "IPY_MODEL_8a919b6a97a046f295c98dc0de1d04c4",
            "step": 1,
            "style": "IPY_MODEL_7480f225d7cc4af4bec25f9c4e05e724",
            "value": 7
          }
        },
        "4ed5b780dd5141b59b32aa2a059f461f": {
          "model_module": "@jupyter-widgets/controls",
          "model_name": "IntTextModel",
          "model_module_version": "1.5.0",
          "state": {
            "_dom_classes": [],
            "_model_module": "@jupyter-widgets/controls",
            "_model_module_version": "1.5.0",
            "_model_name": "IntTextModel",
            "_view_count": null,
            "_view_module": "@jupyter-widgets/controls",
            "_view_module_version": "1.5.0",
            "_view_name": "IntTextView",
            "continuous_update": false,
            "description": "Days off:",
            "description_tooltip": null,
            "disabled": false,
            "layout": "IPY_MODEL_a30b01bfeb17402aaa2d3ebd66b8a6bf",
            "step": 1,
            "style": "IPY_MODEL_9a8cc07128dc47dfbd6c37638c3c374d",
            "value": 5
          }
        },
        "dd740da004ad4939891857ba5fab9005": {
          "model_module": "@jupyter-widgets/base",
          "model_name": "LayoutModel",
          "model_module_version": "1.2.0",
          "state": {
            "_model_module": "@jupyter-widgets/base",
            "_model_module_version": "1.2.0",
            "_model_name": "LayoutModel",
            "_view_count": null,
            "_view_module": "@jupyter-widgets/base",
            "_view_module_version": "1.2.0",
            "_view_name": "LayoutView",
            "align_content": null,
            "align_items": null,
            "align_self": null,
            "border": null,
            "bottom": null,
            "display": null,
            "flex": null,
            "flex_flow": null,
            "grid_area": null,
            "grid_auto_columns": null,
            "grid_auto_flow": null,
            "grid_auto_rows": null,
            "grid_column": null,
            "grid_gap": null,
            "grid_row": null,
            "grid_template_areas": null,
            "grid_template_columns": null,
            "grid_template_rows": null,
            "height": null,
            "justify_content": null,
            "justify_items": null,
            "left": null,
            "margin": null,
            "max_height": null,
            "max_width": null,
            "min_height": null,
            "min_width": null,
            "object_fit": null,
            "object_position": null,
            "order": null,
            "overflow": null,
            "overflow_x": null,
            "overflow_y": null,
            "padding": null,
            "right": null,
            "top": null,
            "visibility": null,
            "width": null
          }
        },
        "45df1d21008b40a580ee82b26e44c4bd": {
          "model_module": "@jupyter-widgets/base",
          "model_name": "LayoutModel",
          "model_module_version": "1.2.0",
          "state": {
            "_model_module": "@jupyter-widgets/base",
            "_model_module_version": "1.2.0",
            "_model_name": "LayoutModel",
            "_view_count": null,
            "_view_module": "@jupyter-widgets/base",
            "_view_module_version": "1.2.0",
            "_view_name": "LayoutView",
            "align_content": null,
            "align_items": null,
            "align_self": null,
            "border": null,
            "bottom": null,
            "display": null,
            "flex": null,
            "flex_flow": null,
            "grid_area": null,
            "grid_auto_columns": null,
            "grid_auto_flow": null,
            "grid_auto_rows": null,
            "grid_column": null,
            "grid_gap": null,
            "grid_row": null,
            "grid_template_areas": null,
            "grid_template_columns": null,
            "grid_template_rows": null,
            "height": null,
            "justify_content": null,
            "justify_items": null,
            "left": null,
            "margin": null,
            "max_height": null,
            "max_width": null,
            "min_height": null,
            "min_width": null,
            "object_fit": null,
            "object_position": null,
            "order": null,
            "overflow": null,
            "overflow_x": null,
            "overflow_y": null,
            "padding": null,
            "right": null,
            "top": null,
            "visibility": null,
            "width": null
          }
        },
        "b713a79a8c0449ca8c4a1e09f3f5a8e4": {
          "model_module": "@jupyter-widgets/controls",
          "model_name": "ButtonStyleModel",
          "model_module_version": "1.5.0",
          "state": {
            "_model_module": "@jupyter-widgets/controls",
            "_model_module_version": "1.5.0",
            "_model_name": "ButtonStyleModel",
            "_view_count": null,
            "_view_module": "@jupyter-widgets/base",
            "_view_module_version": "1.2.0",
            "_view_name": "StyleView",
            "button_color": null,
            "font_weight": ""
          }
        },
        "a30b01bfeb17402aaa2d3ebd66b8a6bf": {
          "model_module": "@jupyter-widgets/base",
          "model_name": "LayoutModel",
          "model_module_version": "1.2.0",
          "state": {
            "_model_module": "@jupyter-widgets/base",
            "_model_module_version": "1.2.0",
            "_model_name": "LayoutModel",
            "_view_count": null,
            "_view_module": "@jupyter-widgets/base",
            "_view_module_version": "1.2.0",
            "_view_name": "LayoutView",
            "align_content": null,
            "align_items": null,
            "align_self": null,
            "border": null,
            "bottom": null,
            "display": null,
            "flex": null,
            "flex_flow": null,
            "grid_area": null,
            "grid_auto_columns": null,
            "grid_auto_flow": null,
            "grid_auto_rows": null,
            "grid_column": null,
            "grid_gap": null,
            "grid_row": null,
            "grid_template_areas": null,
            "grid_template_columns": null,
            "grid_template_rows": null,
            "height": null,
            "justify_content": null,
            "justify_items": null,
            "left": null,
            "margin": "0 0 10px 0",
            "max_height": null,
            "max_width": null,
            "min_height": null,
            "min_width": null,
            "object_fit": null,
            "object_position": null,
            "order": null,
            "overflow": null,
            "overflow_x": null,
            "overflow_y": null,
            "padding": null,
            "right": null,
            "top": null,
            "visibility": null,
            "width": null
          }
        },
        "d467f822d5e04bd7b58800161313c5e7": {
          "model_module": "@jupyter-widgets/controls",
          "model_name": "DescriptionStyleModel",
          "model_module_version": "1.5.0",
          "state": {
            "_model_module": "@jupyter-widgets/controls",
            "_model_module_version": "1.5.0",
            "_model_name": "DescriptionStyleModel",
            "_view_count": null,
            "_view_module": "@jupyter-widgets/base",
            "_view_module_version": "1.2.0",
            "_view_name": "StyleView",
            "description_width": ""
          }
        },
        "8a919b6a97a046f295c98dc0de1d04c4": {
          "model_module": "@jupyter-widgets/base",
          "model_name": "LayoutModel",
          "model_module_version": "1.2.0",
          "state": {
            "_model_module": "@jupyter-widgets/base",
            "_model_module_version": "1.2.0",
            "_model_name": "LayoutModel",
            "_view_count": null,
            "_view_module": "@jupyter-widgets/base",
            "_view_module_version": "1.2.0",
            "_view_name": "LayoutView",
            "align_content": null,
            "align_items": null,
            "align_self": null,
            "border": null,
            "bottom": null,
            "display": null,
            "flex": null,
            "flex_flow": null,
            "grid_area": null,
            "grid_auto_columns": null,
            "grid_auto_flow": null,
            "grid_auto_rows": null,
            "grid_column": null,
            "grid_gap": null,
            "grid_row": null,
            "grid_template_areas": null,
            "grid_template_columns": null,
            "grid_template_rows": null,
            "height": null,
            "justify_content": null,
            "justify_items": null,
            "left": null,
            "margin": "0 0 10px 30px",
            "max_height": null,
            "max_width": null,
            "min_height": null,
            "min_width": null,
            "object_fit": null,
            "object_position": null,
            "order": null,
            "overflow": null,
            "overflow_x": null,
            "overflow_y": null,
            "padding": null,
            "right": null,
            "top": null,
            "visibility": null,
            "width": "200px"
          }
        },
        "7480f225d7cc4af4bec25f9c4e05e724": {
          "model_module": "@jupyter-widgets/controls",
          "model_name": "DescriptionStyleModel",
          "model_module_version": "1.5.0",
          "state": {
            "_model_module": "@jupyter-widgets/controls",
            "_model_module_version": "1.5.0",
            "_model_name": "DescriptionStyleModel",
            "_view_count": null,
            "_view_module": "@jupyter-widgets/base",
            "_view_module_version": "1.2.0",
            "_view_name": "StyleView",
            "description_width": ""
          }
        },
        "9a8cc07128dc47dfbd6c37638c3c374d": {
          "model_module": "@jupyter-widgets/controls",
          "model_name": "DescriptionStyleModel",
          "model_module_version": "1.5.0",
          "state": {
            "_model_module": "@jupyter-widgets/controls",
            "_model_module_version": "1.5.0",
            "_model_name": "DescriptionStyleModel",
            "_view_count": null,
            "_view_module": "@jupyter-widgets/base",
            "_view_module_version": "1.2.0",
            "_view_name": "StyleView",
            "description_width": ""
          }
        },
        "2f8419da23454c39810bcd1a1d7b2d5f": {
          "model_module": "@jupyter-widgets/base",
          "model_name": "LayoutModel",
          "model_module_version": "1.2.0",
          "state": {
            "_model_module": "@jupyter-widgets/base",
            "_model_module_version": "1.2.0",
            "_model_name": "LayoutModel",
            "_view_count": null,
            "_view_module": "@jupyter-widgets/base",
            "_view_module_version": "1.2.0",
            "_view_name": "LayoutView",
            "align_content": null,
            "align_items": null,
            "align_self": null,
            "border": null,
            "bottom": null,
            "display": null,
            "flex": null,
            "flex_flow": null,
            "grid_area": null,
            "grid_auto_columns": null,
            "grid_auto_flow": null,
            "grid_auto_rows": null,
            "grid_column": null,
            "grid_gap": null,
            "grid_row": null,
            "grid_template_areas": null,
            "grid_template_columns": null,
            "grid_template_rows": null,
            "height": null,
            "justify_content": null,
            "justify_items": null,
            "left": null,
            "margin": "10px 0 0 0",
            "max_height": null,
            "max_width": null,
            "min_height": null,
            "min_width": null,
            "object_fit": null,
            "object_position": null,
            "order": null,
            "overflow": null,
            "overflow_x": null,
            "overflow_y": null,
            "padding": null,
            "right": null,
            "top": null,
            "visibility": null,
            "width": null
          }
        }
      }
    }
  },
  "cells": [
    {
      "cell_type": "markdown",
      "metadata": {
        "id": "view-in-github",
        "colab_type": "text"
      },
      "source": [
        "<a href=\"https://colab.research.google.com/github/tlerksuthirat/lab_management/blob/main/Working_hour_calculation.ipynb\" target=\"_parent\"><img src=\"https://colab.research.google.com/assets/colab-badge.svg\" alt=\"Open In Colab\"/></a>"
      ]
    },
    {
      "cell_type": "code",
      "execution_count": 172,
      "metadata": {
        "id": "8zUIbnP9kS4V"
      },
      "outputs": [],
      "source": [
        "import calendar\n",
        "import datetime\n",
        "from ipywidgets import interact_manual\n",
        "from ipywidgets import IntText, Button, HBox, VBox, Output\n",
        "from ipywidgets import Layout"
      ]
    },
    {
      "cell_type": "code",
      "source": [
        "def count_saturdays_and_sundays(year):\n",
        "    start_date = datetime.date(year, 1, 1)\n",
        "    end_date = datetime.date(year, 12, 31)\n",
        "    days_diff = (end_date - start_date).days + 1\n",
        "    \n",
        "    saturdays = 0\n",
        "    sundays = 0\n",
        "\n",
        "    for day in range(days_diff):\n",
        "        current_date = start_date + datetime.timedelta(days=day)\n",
        "        if current_date.weekday() == 5:  # Saturday\n",
        "            saturdays += 1\n",
        "        elif current_date.weekday() == 6:  # Sunday\n",
        "            sundays += 1\n",
        "            \n",
        "    return saturdays, sundays"
      ],
      "metadata": {
        "id": "ZOCq63MZuey0"
      },
      "execution_count": 173,
      "outputs": []
    },
    {
      "cell_type": "code",
      "source": [
        "def number_of_days_in_year(year):\n",
        "    if calendar.isleap(year):\n",
        "        return 366\n",
        "    else:\n",
        "        return 365\n",
        "\n",
        "def calculate_working_hours(year, hours_per_day, days_off, saturdays, sundays):\n",
        "    days_in_year = number_of_days_in_year(year)\n",
        "    working_days = days_in_year - days_off\n",
        "    working_hours = working_days * hours_per_day\n",
        "    working_hours_no_sat_sun = (working_days - saturdays - sundays) * hours_per_day\n",
        "    return working_hours, working_hours_no_sat_sun"
      ],
      "metadata": {
        "id": "pP9_O_wEkbys"
      },
      "execution_count": 174,
      "outputs": []
    },
    {
      "cell_type": "code",
      "source": [
        "def on_calculate_button_click(button):\n",
        "    year = year_input.value\n",
        "    hours_per_day = hours_per_day_input.value\n",
        "    days_off = days_off_input.value\n",
        "\n",
        "    if not all([year, hours_per_day, days_off]):\n",
        "        result = 'Please fill in all input fields.'\n",
        "    else:\n",
        "        saturdays, sundays = count_saturdays_and_sundays(year)\n",
        "        working_hours, working_hours_no_sat_sun = calculate_working_hours(year, hours_per_day, days_off, saturdays, sundays)\n",
        "        result = f'Total working hours: {working_hours}\\nTotal working hours (excluding Saturdays and Sundays): {working_hours_no_sat_sun}\\nIn {year}, there are {saturdays} Saturdays and {sundays} Sundays.'\n",
        "\n",
        "    with output:\n",
        "        output.clear_output()\n",
        "        print(result)\n"
      ],
      "metadata": {
        "id": "LskvFLIVlSvc"
      },
      "execution_count": 175,
      "outputs": []
    },
    {
      "cell_type": "code",
      "source": [
        "input_layout = Layout(margin='0 0 10px 0')  # Bottom margin of 10px\n",
        "output_layout = Layout(margin='10px 0 0 0')  # Top margin of 10px\n",
        "hours_per_day_layout = Layout(width='200px', margin='0 0 10px 30px')  # Width of 200px, bottom margin of 10px, and left margin of 30px"
      ],
      "metadata": {
        "id": "C1YCzqKPmqGQ"
      },
      "execution_count": 192,
      "outputs": []
    },
    {
      "cell_type": "code",
      "source": [
        "year_input = IntText(description='Year:', value=None)\n",
        "hours_per_day_input = IntText(description='Hours/day:', value=None)\n",
        "days_off_input = IntText(description='Days off:', value=None)\n",
        "calculate_button = Button(description='Calculate')\n",
        "output = Output()\n",
        "\n",
        "inputs = VBox([\n",
        "    HBox([year_input, hours_per_day_input, days_off_input]),\n",
        "    calculate_button,\n",
        "    output\n",
        "])\n"
      ],
      "metadata": {
        "id": "t9sHq4QFlI9g"
      },
      "execution_count": 193,
      "outputs": []
    },
    {
      "cell_type": "code",
      "source": [
        "# Applying layout to widgets\n",
        "year_input.layout = input_layout\n",
        "hours_per_day_input.layout = hours_per_day_layout\n",
        "days_off_input.layout = input_layout\n",
        "output.layout = output_layout"
      ],
      "metadata": {
        "id": "nVjYM88bobAS"
      },
      "execution_count": 194,
      "outputs": []
    },
    {
      "cell_type": "code",
      "source": [
        "inputs = VBox([\n",
        "    HBox([year_input, hours_per_day_input, days_off_input]),\n",
        "    calculate_button,\n",
        "    output\n",
        "])\n",
        "\n",
        "calculate_button.on_click(on_calculate_button_click)\n",
        "\n",
        "display(inputs)"
      ],
      "metadata": {
        "colab": {
          "base_uri": "https://localhost:8080/",
          "height": 152,
          "referenced_widgets": [
            "b449b0b709994d1cb2f791ee21d7908c",
            "5c080f766df24417ae130850ca4a727e",
            "5698d638c3684ed591cf47901d501333",
            "6c0cbdae35ee40aa82768dc9b0511674",
            "4a8c9e5623f34dc3996a4716f0880abf",
            "026f9134ab024e559a654d76e0a990fe",
            "bb5854c7c5c4406e9632aa7603dbedf8",
            "4ed5b780dd5141b59b32aa2a059f461f",
            "dd740da004ad4939891857ba5fab9005",
            "45df1d21008b40a580ee82b26e44c4bd",
            "b713a79a8c0449ca8c4a1e09f3f5a8e4",
            "a30b01bfeb17402aaa2d3ebd66b8a6bf",
            "d467f822d5e04bd7b58800161313c5e7",
            "8a919b6a97a046f295c98dc0de1d04c4",
            "7480f225d7cc4af4bec25f9c4e05e724",
            "9a8cc07128dc47dfbd6c37638c3c374d",
            "2f8419da23454c39810bcd1a1d7b2d5f"
          ]
        },
        "id": "jlBClO97ytgk",
        "outputId": "55be0a50-6d0c-4747-fd33-db9e11bde4c5"
      },
      "execution_count": 195,
      "outputs": [
        {
          "output_type": "display_data",
          "data": {
            "text/plain": [
              "VBox(children=(HBox(children=(IntText(value=0, description='Year:', layout=Layout(margin='0 0 10px 0')), IntTe…"
            ],
            "application/vnd.jupyter.widget-view+json": {
              "version_major": 2,
              "version_minor": 0,
              "model_id": "b449b0b709994d1cb2f791ee21d7908c"
            }
          },
          "metadata": {}
        }
      ]
    }
  ]
}