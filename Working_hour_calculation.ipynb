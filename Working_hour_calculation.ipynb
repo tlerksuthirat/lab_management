{
  "nbformat": 4,
  "nbformat_minor": 0,
  "metadata": {
    "colab": {
      "provenance": [],
      "toc_visible": true,
      "authorship_tag": "ABX9TyOF9MvCms8iwqTwGVCS9m3w",
      "include_colab_link": true
    },
    "kernelspec": {
      "name": "python3",
      "display_name": "Python 3"
    },
    "language_info": {
      "name": "python"
    },
    "widgets": {
      "application/vnd.jupyter.widget-state+json": {
        "4ea75c9a44684e20b0c8c7eea5cfa2e6": {
          "model_module": "@jupyter-widgets/controls",
          "model_name": "VBoxModel",
          "model_module_version": "1.5.0",
          "state": {
            "_dom_classes": [],
            "_model_module": "@jupyter-widgets/controls",
            "_model_module_version": "1.5.0",
            "_model_name": "VBoxModel",
            "_view_count": null,
            "_view_module": "@jupyter-widgets/controls",
            "_view_module_version": "1.5.0",
            "_view_name": "VBoxView",
            "box_style": "",
            "children": [
              "IPY_MODEL_8de0d1ca92564471a3b60277d87aa1ad",
              "IPY_MODEL_998be29214f94eebb50cf93e5fe3be8c",
              "IPY_MODEL_dc5e68dc81c045159802a2e9a483ee53"
            ],
            "layout": "IPY_MODEL_ae0687334e39429dbc195e2203984a74"
          }
        },
        "8de0d1ca92564471a3b60277d87aa1ad": {
          "model_module": "@jupyter-widgets/controls",
          "model_name": "HBoxModel",
          "model_module_version": "1.5.0",
          "state": {
            "_dom_classes": [],
            "_model_module": "@jupyter-widgets/controls",
            "_model_module_version": "1.5.0",
            "_model_name": "HBoxModel",
            "_view_count": null,
            "_view_module": "@jupyter-widgets/controls",
            "_view_module_version": "1.5.0",
            "_view_name": "HBoxView",
            "box_style": "",
            "children": [
              "IPY_MODEL_aea72a48e2ca4c50b8988c78ba660adf",
              "IPY_MODEL_d6ae0a213a1f41e7b98a7e6d326c0301",
              "IPY_MODEL_e037e6082d2d44dfaa53bdd0dfe76fd5"
            ],
            "layout": "IPY_MODEL_b30e8c8e8ad44bda80196a404c01cf26"
          }
        },
        "998be29214f94eebb50cf93e5fe3be8c": {
          "model_module": "@jupyter-widgets/controls",
          "model_name": "ButtonModel",
          "model_module_version": "1.5.0",
          "state": {
            "_dom_classes": [],
            "_model_module": "@jupyter-widgets/controls",
            "_model_module_version": "1.5.0",
            "_model_name": "ButtonModel",
            "_view_count": null,
            "_view_module": "@jupyter-widgets/controls",
            "_view_module_version": "1.5.0",
            "_view_name": "ButtonView",
            "button_style": "",
            "description": "Calculate",
            "disabled": false,
            "icon": "",
            "layout": "IPY_MODEL_39aa45f3d261458e850e9ee14d031a9b",
            "style": "IPY_MODEL_61fa8d14bd184b2bbf1479540b3a3f41",
            "tooltip": ""
          }
        },
        "dc5e68dc81c045159802a2e9a483ee53": {
          "model_module": "@jupyter-widgets/output",
          "model_name": "OutputModel",
          "model_module_version": "1.0.0",
          "state": {
            "_dom_classes": [],
            "_model_module": "@jupyter-widgets/output",
            "_model_module_version": "1.0.0",
            "_model_name": "OutputModel",
            "_view_count": null,
            "_view_module": "@jupyter-widgets/output",
            "_view_module_version": "1.0.0",
            "_view_name": "OutputView",
            "layout": "IPY_MODEL_70f9a536189e4d1c8f3b9177180f6fa3",
            "msg_id": "",
            "outputs": [
              {
                "output_type": "stream",
                "name": "stdout",
                "text": [
                  "Total working hours: 2453 hours and 30 minutes\n",
                  "Total working hours (excluding Saturdays and Sundays): 1725 hours and 30 minutes\n",
                  "In 2020, there are 52 Saturdays and 52 Sundays.\n"
                ]
              }
            ]
          }
        },
        "ae0687334e39429dbc195e2203984a74": {
          "model_module": "@jupyter-widgets/base",
          "model_name": "LayoutModel",
          "model_module_version": "1.2.0",
          "state": {
            "_model_module": "@jupyter-widgets/base",
            "_model_module_version": "1.2.0",
            "_model_name": "LayoutModel",
            "_view_count": null,
            "_view_module": "@jupyter-widgets/base",
            "_view_module_version": "1.2.0",
            "_view_name": "LayoutView",
            "align_content": null,
            "align_items": null,
            "align_self": null,
            "border": null,
            "bottom": null,
            "display": null,
            "flex": null,
            "flex_flow": null,
            "grid_area": null,
            "grid_auto_columns": null,
            "grid_auto_flow": null,
            "grid_auto_rows": null,
            "grid_column": null,
            "grid_gap": null,
            "grid_row": null,
            "grid_template_areas": null,
            "grid_template_columns": null,
            "grid_template_rows": null,
            "height": null,
            "justify_content": null,
            "justify_items": null,
            "left": null,
            "margin": null,
            "max_height": null,
            "max_width": null,
            "min_height": null,
            "min_width": null,
            "object_fit": null,
            "object_position": null,
            "order": null,
            "overflow": null,
            "overflow_x": null,
            "overflow_y": null,
            "padding": null,
            "right": null,
            "top": null,
            "visibility": null,
            "width": null
          }
        },
        "aea72a48e2ca4c50b8988c78ba660adf": {
          "model_module": "@jupyter-widgets/controls",
          "model_name": "IntTextModel",
          "model_module_version": "1.5.0",
          "state": {
            "_dom_classes": [],
            "_model_module": "@jupyter-widgets/controls",
            "_model_module_version": "1.5.0",
            "_model_name": "IntTextModel",
            "_view_count": null,
            "_view_module": "@jupyter-widgets/controls",
            "_view_module_version": "1.5.0",
            "_view_name": "IntTextView",
            "continuous_update": false,
            "description": "Year:",
            "description_tooltip": null,
            "disabled": false,
            "layout": "IPY_MODEL_899f298e446d4ee9be90aa7cc9fcad72",
            "step": 1,
            "style": "IPY_MODEL_ff40741a2262476598b10a042944ccf4",
            "value": 2020
          }
        },
        "d6ae0a213a1f41e7b98a7e6d326c0301": {
          "model_module": "@jupyter-widgets/controls",
          "model_name": "IntTextModel",
          "model_module_version": "1.5.0",
          "state": {
            "_dom_classes": [],
            "_model_module": "@jupyter-widgets/controls",
            "_model_module_version": "1.5.0",
            "_model_name": "IntTextModel",
            "_view_count": null,
            "_view_module": "@jupyter-widgets/controls",
            "_view_module_version": "1.5.0",
            "_view_name": "IntTextView",
            "continuous_update": false,
            "description": "Hours/day:",
            "description_tooltip": null,
            "disabled": false,
            "layout": "IPY_MODEL_328f16b94be34cc7ae0881f346518452",
            "step": 1,
            "style": "IPY_MODEL_afe65536e173482a8b2c468ed8c148d6",
            "value": 7
          }
        },
        "e037e6082d2d44dfaa53bdd0dfe76fd5": {
          "model_module": "@jupyter-widgets/controls",
          "model_name": "FloatTextModel",
          "model_module_version": "1.5.0",
          "state": {
            "_dom_classes": [],
            "_model_module": "@jupyter-widgets/controls",
            "_model_module_version": "1.5.0",
            "_model_name": "FloatTextModel",
            "_view_count": null,
            "_view_module": "@jupyter-widgets/controls",
            "_view_module_version": "1.5.0",
            "_view_name": "FloatTextView",
            "continuous_update": false,
            "description": "Days off:",
            "description_tooltip": null,
            "disabled": false,
            "layout": "IPY_MODEL_899f298e446d4ee9be90aa7cc9fcad72",
            "step": null,
            "style": "IPY_MODEL_566992d871d64f0b93c2feda11ceb85c",
            "value": 15.5
          }
        },
        "b30e8c8e8ad44bda80196a404c01cf26": {
          "model_module": "@jupyter-widgets/base",
          "model_name": "LayoutModel",
          "model_module_version": "1.2.0",
          "state": {
            "_model_module": "@jupyter-widgets/base",
            "_model_module_version": "1.2.0",
            "_model_name": "LayoutModel",
            "_view_count": null,
            "_view_module": "@jupyter-widgets/base",
            "_view_module_version": "1.2.0",
            "_view_name": "LayoutView",
            "align_content": null,
            "align_items": null,
            "align_self": null,
            "border": null,
            "bottom": null,
            "display": null,
            "flex": null,
            "flex_flow": null,
            "grid_area": null,
            "grid_auto_columns": null,
            "grid_auto_flow": null,
            "grid_auto_rows": null,
            "grid_column": null,
            "grid_gap": null,
            "grid_row": null,
            "grid_template_areas": null,
            "grid_template_columns": null,
            "grid_template_rows": null,
            "height": null,
            "justify_content": null,
            "justify_items": null,
            "left": null,
            "margin": null,
            "max_height": null,
            "max_width": null,
            "min_height": null,
            "min_width": null,
            "object_fit": null,
            "object_position": null,
            "order": null,
            "overflow": null,
            "overflow_x": null,
            "overflow_y": null,
            "padding": null,
            "right": null,
            "top": null,
            "visibility": null,
            "width": null
          }
        },
        "39aa45f3d261458e850e9ee14d031a9b": {
          "model_module": "@jupyter-widgets/base",
          "model_name": "LayoutModel",
          "model_module_version": "1.2.0",
          "state": {
            "_model_module": "@jupyter-widgets/base",
            "_model_module_version": "1.2.0",
            "_model_name": "LayoutModel",
            "_view_count": null,
            "_view_module": "@jupyter-widgets/base",
            "_view_module_version": "1.2.0",
            "_view_name": "LayoutView",
            "align_content": null,
            "align_items": null,
            "align_self": null,
            "border": null,
            "bottom": null,
            "display": null,
            "flex": null,
            "flex_flow": null,
            "grid_area": null,
            "grid_auto_columns": null,
            "grid_auto_flow": null,
            "grid_auto_rows": null,
            "grid_column": null,
            "grid_gap": null,
            "grid_row": null,
            "grid_template_areas": null,
            "grid_template_columns": null,
            "grid_template_rows": null,
            "height": null,
            "justify_content": null,
            "justify_items": null,
            "left": null,
            "margin": null,
            "max_height": null,
            "max_width": null,
            "min_height": null,
            "min_width": null,
            "object_fit": null,
            "object_position": null,
            "order": null,
            "overflow": null,
            "overflow_x": null,
            "overflow_y": null,
            "padding": null,
            "right": null,
            "top": null,
            "visibility": null,
            "width": null
          }
        },
        "61fa8d14bd184b2bbf1479540b3a3f41": {
          "model_module": "@jupyter-widgets/controls",
          "model_name": "ButtonStyleModel",
          "model_module_version": "1.5.0",
          "state": {
            "_model_module": "@jupyter-widgets/controls",
            "_model_module_version": "1.5.0",
            "_model_name": "ButtonStyleModel",
            "_view_count": null,
            "_view_module": "@jupyter-widgets/base",
            "_view_module_version": "1.2.0",
            "_view_name": "StyleView",
            "button_color": null,
            "font_weight": ""
          }
        },
        "899f298e446d4ee9be90aa7cc9fcad72": {
          "model_module": "@jupyter-widgets/base",
          "model_name": "LayoutModel",
          "model_module_version": "1.2.0",
          "state": {
            "_model_module": "@jupyter-widgets/base",
            "_model_module_version": "1.2.0",
            "_model_name": "LayoutModel",
            "_view_count": null,
            "_view_module": "@jupyter-widgets/base",
            "_view_module_version": "1.2.0",
            "_view_name": "LayoutView",
            "align_content": null,
            "align_items": null,
            "align_self": null,
            "border": null,
            "bottom": null,
            "display": null,
            "flex": null,
            "flex_flow": null,
            "grid_area": null,
            "grid_auto_columns": null,
            "grid_auto_flow": null,
            "grid_auto_rows": null,
            "grid_column": null,
            "grid_gap": null,
            "grid_row": null,
            "grid_template_areas": null,
            "grid_template_columns": null,
            "grid_template_rows": null,
            "height": null,
            "justify_content": null,
            "justify_items": null,
            "left": null,
            "margin": "0 0 10px 0",
            "max_height": null,
            "max_width": null,
            "min_height": null,
            "min_width": null,
            "object_fit": null,
            "object_position": null,
            "order": null,
            "overflow": null,
            "overflow_x": null,
            "overflow_y": null,
            "padding": null,
            "right": null,
            "top": null,
            "visibility": null,
            "width": null
          }
        },
        "ff40741a2262476598b10a042944ccf4": {
          "model_module": "@jupyter-widgets/controls",
          "model_name": "DescriptionStyleModel",
          "model_module_version": "1.5.0",
          "state": {
            "_model_module": "@jupyter-widgets/controls",
            "_model_module_version": "1.5.0",
            "_model_name": "DescriptionStyleModel",
            "_view_count": null,
            "_view_module": "@jupyter-widgets/base",
            "_view_module_version": "1.2.0",
            "_view_name": "StyleView",
            "description_width": ""
          }
        },
        "328f16b94be34cc7ae0881f346518452": {
          "model_module": "@jupyter-widgets/base",
          "model_name": "LayoutModel",
          "model_module_version": "1.2.0",
          "state": {
            "_model_module": "@jupyter-widgets/base",
            "_model_module_version": "1.2.0",
            "_model_name": "LayoutModel",
            "_view_count": null,
            "_view_module": "@jupyter-widgets/base",
            "_view_module_version": "1.2.0",
            "_view_name": "LayoutView",
            "align_content": null,
            "align_items": null,
            "align_self": null,
            "border": null,
            "bottom": null,
            "display": null,
            "flex": null,
            "flex_flow": null,
            "grid_area": null,
            "grid_auto_columns": null,
            "grid_auto_flow": null,
            "grid_auto_rows": null,
            "grid_column": null,
            "grid_gap": null,
            "grid_row": null,
            "grid_template_areas": null,
            "grid_template_columns": null,
            "grid_template_rows": null,
            "height": null,
            "justify_content": null,
            "justify_items": null,
            "left": null,
            "margin": "0 0 10px 30px",
            "max_height": null,
            "max_width": null,
            "min_height": null,
            "min_width": null,
            "object_fit": null,
            "object_position": null,
            "order": null,
            "overflow": null,
            "overflow_x": null,
            "overflow_y": null,
            "padding": null,
            "right": null,
            "top": null,
            "visibility": null,
            "width": "200px"
          }
        },
        "afe65536e173482a8b2c468ed8c148d6": {
          "model_module": "@jupyter-widgets/controls",
          "model_name": "DescriptionStyleModel",
          "model_module_version": "1.5.0",
          "state": {
            "_model_module": "@jupyter-widgets/controls",
            "_model_module_version": "1.5.0",
            "_model_name": "DescriptionStyleModel",
            "_view_count": null,
            "_view_module": "@jupyter-widgets/base",
            "_view_module_version": "1.2.0",
            "_view_name": "StyleView",
            "description_width": ""
          }
        },
        "566992d871d64f0b93c2feda11ceb85c": {
          "model_module": "@jupyter-widgets/controls",
          "model_name": "DescriptionStyleModel",
          "model_module_version": "1.5.0",
          "state": {
            "_model_module": "@jupyter-widgets/controls",
            "_model_module_version": "1.5.0",
            "_model_name": "DescriptionStyleModel",
            "_view_count": null,
            "_view_module": "@jupyter-widgets/base",
            "_view_module_version": "1.2.0",
            "_view_name": "StyleView",
            "description_width": ""
          }
        },
        "70f9a536189e4d1c8f3b9177180f6fa3": {
          "model_module": "@jupyter-widgets/base",
          "model_name": "LayoutModel",
          "model_module_version": "1.2.0",
          "state": {
            "_model_module": "@jupyter-widgets/base",
            "_model_module_version": "1.2.0",
            "_model_name": "LayoutModel",
            "_view_count": null,
            "_view_module": "@jupyter-widgets/base",
            "_view_module_version": "1.2.0",
            "_view_name": "LayoutView",
            "align_content": null,
            "align_items": null,
            "align_self": null,
            "border": null,
            "bottom": null,
            "display": null,
            "flex": null,
            "flex_flow": null,
            "grid_area": null,
            "grid_auto_columns": null,
            "grid_auto_flow": null,
            "grid_auto_rows": null,
            "grid_column": null,
            "grid_gap": null,
            "grid_row": null,
            "grid_template_areas": null,
            "grid_template_columns": null,
            "grid_template_rows": null,
            "height": null,
            "justify_content": null,
            "justify_items": null,
            "left": null,
            "margin": "10px 0 0 0",
            "max_height": null,
            "max_width": null,
            "min_height": null,
            "min_width": null,
            "object_fit": null,
            "object_position": null,
            "order": null,
            "overflow": null,
            "overflow_x": null,
            "overflow_y": null,
            "padding": null,
            "right": null,
            "top": null,
            "visibility": null,
            "width": null
          }
        }
      }
    }
  },
  "cells": [
    {
      "cell_type": "markdown",
      "metadata": {
        "id": "view-in-github",
        "colab_type": "text"
      },
      "source": [
        "<a href=\"https://colab.research.google.com/github/tlerksuthirat/lab_management/blob/main/Working_hour_calculation.ipynb\" target=\"_parent\"><img src=\"https://colab.research.google.com/assets/colab-badge.svg\" alt=\"Open In Colab\"/></a>"
      ]
    },
    {
      "cell_type": "code",
      "execution_count": 32,
      "metadata": {
        "id": "8zUIbnP9kS4V"
      },
      "outputs": [],
      "source": [
        "import calendar\n",
        "import datetime\n",
        "from ipywidgets import interact_manual\n",
        "from ipywidgets import IntText, Button, HBox, VBox, Output\n",
        "from ipywidgets import Layout\n",
        "from ipywidgets import FloatText"
      ]
    },
    {
      "cell_type": "code",
      "source": [
        "def count_saturdays_and_sundays(year):\n",
        "    start_date = datetime.date(year, 1, 1)\n",
        "    end_date = datetime.date(year, 12, 31)\n",
        "    days_diff = (end_date - start_date).days + 1\n",
        "    \n",
        "    saturdays = 0\n",
        "    sundays = 0\n",
        "\n",
        "    for day in range(days_diff):\n",
        "        current_date = start_date + datetime.timedelta(days=day)\n",
        "        if current_date.weekday() == 5:  # Saturday\n",
        "            saturdays += 1\n",
        "        elif current_date.weekday() == 6:  # Sunday\n",
        "            sundays += 1\n",
        "            \n",
        "    return saturdays, sundays"
      ],
      "metadata": {
        "id": "ZOCq63MZuey0"
      },
      "execution_count": 33,
      "outputs": []
    },
    {
      "cell_type": "code",
      "source": [
        "def number_of_days_in_year(year):\n",
        "    if calendar.isleap(year):\n",
        "        return 366\n",
        "    else:\n",
        "        return 365\n",
        "\n",
        "def calculate_working_hours(year, hours_per_day, days_off, saturdays, sundays):\n",
        "    days_in_year = number_of_days_in_year(year)\n",
        "    working_days = days_in_year - days_off\n",
        "    working_hours = working_days * hours_per_day\n",
        "    working_hours_no_sat_sun = (working_days - saturdays - sundays) * hours_per_day\n",
        "    return working_hours, working_hours_no_sat_sun"
      ],
      "metadata": {
        "id": "pP9_O_wEkbys"
      },
      "execution_count": 34,
      "outputs": []
    },
    {
      "cell_type": "code",
      "source": [
        "def decimal_to_hour_minute(decimal_value):\n",
        "    hours = int(decimal_value)\n",
        "    minutes = int((decimal_value - hours) * 60)\n",
        "    return hours, minutes"
      ],
      "metadata": {
        "id": "Qt4QKaBgeRhd"
      },
      "execution_count": 35,
      "outputs": []
    },
    {
      "cell_type": "code",
      "source": [
        "def on_calculate_button_click(button):\n",
        "    year = year_input.value\n",
        "    hours_per_day = hours_per_day_input.value\n",
        "    days_off = days_off_input.value\n",
        "\n",
        "    if not all([year, hours_per_day, days_off]):\n",
        "        result = 'Please fill in all input fields.'\n",
        "    else:\n",
        "        saturdays, sundays = count_saturdays_and_sundays(year)\n",
        "        working_hours, working_hours_no_sat_sun = calculate_working_hours(year, hours_per_day, days_off, saturdays, sundays)\n",
        "        \n",
        "        working_hours_h, working_hours_m = decimal_to_hour_minute(working_hours)\n",
        "        working_hours_no_sat_sun_h, working_hours_no_sat_sun_m = decimal_to_hour_minute(working_hours_no_sat_sun)\n",
        "        \n",
        "        result = f'Total working hours: {working_hours_h} hours and {working_hours_m} minutes\\nTotal working hours (excluding Saturdays and Sundays): {working_hours_no_sat_sun_h} hours and {working_hours_no_sat_sun_m} minutes\\nIn {year}, there are {saturdays} Saturdays and {sundays} Sundays.'\n",
        "\n",
        "    with output:\n",
        "        output.clear_output()\n",
        "        print(result)"
      ],
      "metadata": {
        "id": "LskvFLIVlSvc"
      },
      "execution_count": 36,
      "outputs": []
    },
    {
      "cell_type": "code",
      "source": [
        "input_layout = Layout(margin='0 0 10px 0')  # Bottom margin of 10px\n",
        "output_layout = Layout(margin='10px 0 0 0')  # Top margin of 10px\n",
        "hours_per_day_layout = Layout(width='200px', margin='0 0 10px 30px')  # Width of 200px, bottom margin of 10px, and left margin of 30px"
      ],
      "metadata": {
        "id": "C1YCzqKPmqGQ"
      },
      "execution_count": 37,
      "outputs": []
    },
    {
      "cell_type": "code",
      "source": [
        "year_input = IntText(description='Year:', value=None)\n",
        "hours_per_day_input = IntText(description='Hours/day:', value=None)\n",
        "days_off_input = FloatText(description='Days off:', value=None)\n",
        "#days_off_input = IntText(description='Days off:', value=None) -- only integer\n",
        "calculate_button = Button(description='Calculate')\n",
        "output = Output()\n",
        "\n",
        "inputs = VBox([\n",
        "    HBox([year_input, hours_per_day_input, days_off_input]),\n",
        "    calculate_button,\n",
        "    output\n",
        "])"
      ],
      "metadata": {
        "id": "t9sHq4QFlI9g"
      },
      "execution_count": 38,
      "outputs": []
    },
    {
      "cell_type": "code",
      "source": [
        "# Applying layout to widgets\n",
        "year_input.layout = input_layout\n",
        "hours_per_day_input.layout = hours_per_day_layout\n",
        "days_off_input.layout = input_layout\n",
        "output.layout = output_layout"
      ],
      "metadata": {
        "id": "nVjYM88bobAS"
      },
      "execution_count": 39,
      "outputs": []
    },
    {
      "cell_type": "code",
      "source": [
        "inputs = VBox([\n",
        "    HBox([year_input, hours_per_day_input, days_off_input]),\n",
        "    calculate_button,\n",
        "    output\n",
        "])\n",
        "\n",
        "calculate_button.on_click(on_calculate_button_click)\n",
        "\n",
        "display(inputs)"
      ],
      "metadata": {
        "colab": {
          "base_uri": "https://localhost:8080/",
          "height": 152,
          "referenced_widgets": [
            "4ea75c9a44684e20b0c8c7eea5cfa2e6",
            "8de0d1ca92564471a3b60277d87aa1ad",
            "998be29214f94eebb50cf93e5fe3be8c",
            "dc5e68dc81c045159802a2e9a483ee53",
            "ae0687334e39429dbc195e2203984a74",
            "aea72a48e2ca4c50b8988c78ba660adf",
            "d6ae0a213a1f41e7b98a7e6d326c0301",
            "e037e6082d2d44dfaa53bdd0dfe76fd5",
            "b30e8c8e8ad44bda80196a404c01cf26",
            "39aa45f3d261458e850e9ee14d031a9b",
            "61fa8d14bd184b2bbf1479540b3a3f41",
            "899f298e446d4ee9be90aa7cc9fcad72",
            "ff40741a2262476598b10a042944ccf4",
            "328f16b94be34cc7ae0881f346518452",
            "afe65536e173482a8b2c468ed8c148d6",
            "566992d871d64f0b93c2feda11ceb85c",
            "70f9a536189e4d1c8f3b9177180f6fa3"
          ]
        },
        "id": "jlBClO97ytgk",
        "outputId": "2181fe35-f820-4c4f-c893-29959d941bb5"
      },
      "execution_count": 40,
      "outputs": [
        {
          "output_type": "display_data",
          "data": {
            "text/plain": [
              "VBox(children=(HBox(children=(IntText(value=0, description='Year:', layout=Layout(margin='0 0 10px 0')), IntTe…"
            ],
            "application/vnd.jupyter.widget-view+json": {
              "version_major": 2,
              "version_minor": 0,
              "model_id": "4ea75c9a44684e20b0c8c7eea5cfa2e6"
            }
          },
          "metadata": {}
        }
      ]
    }
  ]
}